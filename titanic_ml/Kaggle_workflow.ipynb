{
 "cells": [
  {
   "cell_type": "markdown",
   "metadata": {},
   "source": [
    "## 1. Importing and pre-processing the data"
   ]
  },
  {
   "cell_type": "code",
   "execution_count": 3,
   "metadata": {
    "collapsed": false
   },
   "outputs": [
    {
     "name": "stdout",
     "output_type": "stream",
     "text": [
      "   PassengerId  Pclass                                          Name     Sex  \\\n",
      "0          892       3                              Kelly, Mr. James    male   \n",
      "1          893       3              Wilkes, Mrs. James (Ellen Needs)  female   \n",
      "2          894       2                     Myles, Mr. Thomas Francis    male   \n",
      "3          895       3                              Wirz, Mr. Albert    male   \n",
      "4          896       3  Hirvonen, Mrs. Alexander (Helga E Lindqvist)  female   \n",
      "\n",
      "    Age  SibSp  Parch   Ticket     Fare Cabin Embarked  \n",
      "0  34.5      0      0   330911   7.8292   NaN        Q  \n",
      "1  47.0      1      0   363272   7.0000   NaN        S  \n",
      "2  62.0      0      0   240276   9.6875   NaN        Q  \n",
      "3  27.0      0      0   315154   8.6625   NaN        S  \n",
      "4  22.0      1      1  3101298  12.2875   NaN        S  \n"
     ]
    }
   ],
   "source": [
    "import pandas as pd\n",
    "train = pd.read_csv(\"train.csv\")\n",
    "holdout = pd.read_csv(\"test.csv\")\n",
    "print(holdout.head())"
   ]
  },
  {
   "cell_type": "code",
   "execution_count": 4,
   "metadata": {
    "collapsed": true
   },
   "outputs": [],
   "source": [
    "# %load functions.py\n",
    "\n",
    "# fill missing values in the \"Fare\" column with the mean of the column\n",
    "# fill missing values in the \"Embarked\" column with the mode of the column (\"S\")\n",
    "def process_missing(df):\n",
    "    \"\"\"Handle various missing values from the data set\n",
    "\n",
    "    Usage\n",
    "    ------\n",
    "\n",
    "    holdout = process_missing(holdout)\n",
    "    \"\"\"\n",
    "    df[\"Fare\"] = df[\"Fare\"].fillna(train[\"Fare\"].mean())\n",
    "    df[\"Embarked\"] = df[\"Embarked\"].fillna(\"S\")\n",
    "    return df\n",
    "\n",
    "# process age column into age_categories column containing different categories\n",
    "def process_age(df):\n",
    "    \"\"\"Process the Age column into pre-defined 'bins' \n",
    "\n",
    "    Usage\n",
    "    ------\n",
    "\n",
    "    train = process_age(train)\n",
    "    \"\"\"\n",
    "    df[\"Age\"] = df[\"Age\"].fillna(-0.5)\n",
    "    cut_points = [-1,0,5,12,18,35,60,100]\n",
    "    label_names = [\"Missing\",\"Infant\",\"Child\",\"Teenager\",\"Young Adult\",\"Adult\",\"Senior\"]\n",
    "    df[\"Age_categories\"] = pd.cut(df[\"Age\"],cut_points,labels=label_names)\n",
    "    return df\n",
    "\n",
    "# process fare column into fare_categories column with predefined fare categories\n",
    "def process_fare(df):\n",
    "    \"\"\"Process the Fare column into pre-defined 'bins' \n",
    "\n",
    "    Usage\n",
    "    ------\n",
    "\n",
    "    train = process_fare(train)\n",
    "    \"\"\"\n",
    "    cut_points = [-1,12,50,100,1000]\n",
    "    label_names = [\"0-12\",\"12-50\",\"50-100\",\"100+\"]\n",
    "    df[\"Fare_categories\"] = pd.cut(df[\"Fare\"],cut_points,labels=label_names)\n",
    "    return df\n",
    "\n",
    "# process cabin column into cabin_type column by getting the first char in cabin\n",
    "def process_cabin(df):\n",
    "    \"\"\"Process the Cabin column into pre-defined 'bins' \n",
    "\n",
    "    Usage\n",
    "    ------\n",
    "\n",
    "    train process_cabin(train)\n",
    "    \"\"\"\n",
    "    df[\"Cabin_type\"] = df[\"Cabin\"].str[0]\n",
    "    df[\"Cabin_type\"] = df[\"Cabin_type\"].fillna(\"Unknown\")\n",
    "    df = df.drop('Cabin',axis=1)\n",
    "    return df\n",
    "\n",
    "def process_titles(df):\n",
    "    \"\"\"Extract and categorize the title from the name column \n",
    "\n",
    "    Usage\n",
    "    ------\n",
    "\n",
    "    train = process_titles(train)\n",
    "    \"\"\"\n",
    "    titles = {\n",
    "        \"Mr\" :         \"Mr\",\n",
    "        \"Mme\":         \"Mrs\",\n",
    "        \"Ms\":          \"Mrs\",\n",
    "        \"Mrs\" :        \"Mrs\",\n",
    "        \"Master\" :     \"Master\",\n",
    "        \"Mlle\":        \"Miss\",\n",
    "        \"Miss\" :       \"Miss\",\n",
    "        \"Capt\":        \"Officer\",\n",
    "        \"Col\":         \"Officer\",\n",
    "        \"Major\":       \"Officer\",\n",
    "        \"Dr\":          \"Officer\",\n",
    "        \"Rev\":         \"Officer\",\n",
    "        \"Jonkheer\":    \"Royalty\",\n",
    "        \"Don\":         \"Royalty\",\n",
    "        \"Sir\" :        \"Royalty\",\n",
    "        \"Countess\":    \"Royalty\",\n",
    "        \"Dona\":        \"Royalty\",\n",
    "        \"Lady\" :       \"Royalty\"\n",
    "    }\n",
    "    extracted_titles = df[\"Name\"].str.extract(' ([A-Za-z]+)\\.',expand=False)\n",
    "    df[\"Title\"] = extracted_titles.map(titles)\n",
    "    return df\n",
    "\n",
    "def create_dummies(df,column_name):\n",
    "    \"\"\"Create Dummy Columns (One Hot Encoding) from a single Column\n",
    "\n",
    "    Usage\n",
    "    ------\n",
    "\n",
    "    train = create_dummies(train,\"Age\")\n",
    "    \"\"\"\n",
    "    dummies = pd.get_dummies(df[column_name],prefix=column_name)\n",
    "    df = pd.concat([df,dummies],axis=1)\n",
    "    return df\n",
    "\n",
    "def pre_process(df):\n",
    "    \"\"\"Apply all of the pre-processing functions to a dataframe\n",
    "    \n",
    "    Usage\n",
    "    ------\n",
    "    \n",
    "    train = pre_process(train)\n",
    "    \"\"\"\n",
    "    df = process_missing(df)\n",
    "    df = process_age(df)\n",
    "    df = process_fare(df)\n",
    "    df = process_cabin(df)\n",
    "    df = process_titles(df)\n",
    "    \n",
    "    dummy_cols = [\"Age_categories\", \"Fare_categories\", \"Title\", \"Cabin_type\", \"Sex\"]\n",
    "    for col in dummy_cols:\n",
    "        create_dummies(df, col)\n",
    "    return df\n",
    "    "
   ]
  },
  {
   "cell_type": "code",
   "execution_count": 5,
   "metadata": {
    "collapsed": true
   },
   "outputs": [],
   "source": [
    "train = pre_process(train)\n",
    "holdout = pre_process(holdout)"
   ]
  },
  {
   "cell_type": "markdown",
   "metadata": {},
   "source": [
    "## 2. Exploring SibSp (no. of siblings/spouse) and Parch (no. of parents/children) aboard the Titanic "
   ]
  },
  {
   "cell_type": "code",
   "execution_count": 6,
   "metadata": {
    "collapsed": false
   },
   "outputs": [
    {
     "name": "stdout",
     "output_type": "stream",
     "text": [
      "PassengerId           int64\n",
      "Survived              int64\n",
      "Pclass                int64\n",
      "Name                 object\n",
      "Sex                  object\n",
      "Age                 float64\n",
      "SibSp                 int64\n",
      "Parch                 int64\n",
      "Ticket               object\n",
      "Fare                float64\n",
      "Embarked             object\n",
      "Age_categories     category\n",
      "Fare_categories    category\n",
      "Cabin_type           object\n",
      "Title                object\n",
      "dtype: object\n"
     ]
    },
    {
     "data": {
      "text/plain": [
       "<matplotlib.axes._subplots.AxesSubplot at 0x7ff706f4acf8>"
      ]
     },
     "execution_count": 6,
     "metadata": {},
     "output_type": "execute_result"
    },
    {
     "data": {
      "image/png": "[encoded data removed]",
      "text/plain": [
       "<matplotlib.figure.Figure at 0x7ff7098fa908>"
      ]
     },
     "metadata": {},
     "output_type": "display_data"
    }
   ],
   "source": [
    "import matplotlib.pyplot as plt\n",
    "%matplotlib inline\n",
    "\n",
    "print(train.dtypes)\n",
    "train[\"SibSp\"].hist(color = 'green')\n",
    "train[\"Parch\"].hist(color = 'red')"
   ]
  },
  {
   "cell_type": "code",
   "execution_count": 7,
   "metadata": {
    "collapsed": false
   },
   "outputs": [
    {
     "name": "stdout",
     "output_type": "stream",
     "text": [
      "Sum_relatives\n",
      "0     0.303538\n",
      "1     0.552795\n",
      "2     0.578431\n",
      "3     0.724138\n",
      "4     0.200000\n",
      "5     0.136364\n",
      "6     0.333333\n",
      "7     0.000000\n",
      "10    0.000000\n",
      "Name: Survived, dtype: float64\n",
      "0     537\n",
      "1     161\n",
      "2     102\n",
      "3      29\n",
      "5      22\n",
      "4      15\n",
      "6      12\n",
      "10      7\n",
      "7       6\n",
      "Name: Sum_relatives, dtype: int64\n"
     ]
    },
    {
     "data": {
      "image/png": "[encoded data removed]",
      "text/plain": [
       "<matplotlib.figure.Figure at 0x7ff7494a1940>"
      ]
     },
     "metadata": {},
     "output_type": "display_data"
    }
   ],
   "source": [
    "explore = train.copy()\n",
    "explore[\"Sum_relatives\"] = explore[\"SibSp\"] + explore[\"Parch\"]\n",
    "print(pd.pivot_table(explore, values = \"Survived\", index = \"Sum_relatives\"))\n",
    "explore[\"Sum_relatives\"].hist()\n",
    "print(explore[\"Sum_relatives\"].value_counts())"
   ]
  },
  {
   "cell_type": "markdown",
   "metadata": {},
   "source": [
    "### As can be seen above, we created a new column (Sum_relatives) that sums up the total siblings, spouses, parents, and children on board the Titanic.  The vast majority of people on board the ship had 0 relatives, and their survival rate was only 30%.  \n",
    "\n",
    "### Survival rate was highest for those with between 1-3 total relatives at >55%.  The highest survival rate was for those with 3 total relatives exactly at 72.4%, but there were only 29 total observations with exactly 3 relatives so the sample size is very small.  "
   ]
  },
  {
   "cell_type": "markdown",
   "metadata": {},
   "source": [
    "## 3. Feature engineering a new feature (isalone) to determine if the passenger was alone on the ship (0 relatives)"
   ]
  },
  {
   "cell_type": "code",
   "execution_count": 8,
   "metadata": {
    "collapsed": false
   },
   "outputs": [],
   "source": [
    "def passenger_isalone(df):\n",
    "    sum_relatives = df[\"SibSp\"] + df[\"Parch\"]\n",
    "    df[\"isalone\"] = [1 if x == 0 else 0 for x in sum_relatives]\n",
    "    return df\n",
    "train = passenger_isalone(train)\n",
    "holdout = passenger_isalone(holdout)"
   ]
  },
  {
   "cell_type": "code",
   "execution_count": 9,
   "metadata": {
    "collapsed": false
   },
   "outputs": [
    {
     "name": "stdout",
     "output_type": "stream",
     "text": [
      "   PassengerId  Survived  Pclass  \\\n",
      "0            1         0       3   \n",
      "1            2         1       1   \n",
      "2            3         1       3   \n",
      "3            4         1       1   \n",
      "4            5         0       3   \n",
      "\n",
      "                                                Name     Sex   Age  SibSp  \\\n",
      "0                            Braund, Mr. Owen Harris    male  22.0      1   \n",
      "1  Cumings, Mrs. John Bradley (Florence Briggs Th...  female  38.0      1   \n",
      "2                             Heikkinen, Miss. Laina  female  26.0      0   \n",
      "3       Futrelle, Mrs. Jacques Heath (Lily May Peel)  female  35.0      1   \n",
      "4                           Allen, Mr. William Henry    male  35.0      0   \n",
      "\n",
      "   Parch            Ticket     Fare Embarked Age_categories Fare_categories  \\\n",
      "0      0         A/5 21171   7.2500        S    Young Adult            0-12   \n",
      "1      0          PC 17599  71.2833        C          Adult          50-100   \n",
      "2      0  STON/O2. 3101282   7.9250        S    Young Adult            0-12   \n",
      "3      0            113803  53.1000        S    Young Adult          50-100   \n",
      "4      0            373450   8.0500        S    Young Adult            0-12   \n",
      "\n",
      "  Cabin_type Title  isalone  \n",
      "0    Unknown    Mr        0  \n",
      "1          C   Mrs        0  \n",
      "2    Unknown  Miss        1  \n",
      "3          C   Mrs        0  \n",
      "4    Unknown    Mr        1  \n"
     ]
    }
   ],
   "source": [
    "print(train.head())"
   ]
  },
  {
   "cell_type": "markdown",
   "metadata": {},
   "source": [
    "## 4. Feature Selection using Recursive Feature Elimination Cross-validation (RFECV) and the Random Forest algorithm"
   ]
  },
  {
   "cell_type": "code",
   "execution_count": 10,
   "metadata": {
    "collapsed": false
   },
   "outputs": [],
   "source": [
    "from sklearn.feature_selection import RFECV\n",
    "from sklearn.ensemble import RandomForestClassifier\n",
    "def select_features(df):\n",
    "    # remove non-numeric columns and columns containing nulls\n",
    "    df = df.select_dtypes(include = [\"float64\", \"int64\"])\n",
    "    df.dropna(axis=1, how='any')\n",
    "    \n",
    "    # create X and y for fitting\n",
    "    all_X = df.drop([\"PassengerId\", \"Survived\"], axis = 1)\n",
    "    all_y = df[\"Survived\"]\n",
    "    \n",
    "    # create estimator and selector for feature selection\n",
    "    estimator = RandomForestClassifier(random_state = 1)\n",
    "    selector = RFECV(estimator, cv = 10)\n",
    "    selector.fit(all_X, all_y)\n",
    "    \n",
    "    # print and return the best features from all_X\n",
    "    print(all_X.iloc[:,selector.support_].columns)\n",
    "    return (all_X.iloc[:, selector.support_].columns)"
   ]
  },
  {
   "cell_type": "code",
   "execution_count": 11,
   "metadata": {
    "collapsed": false
   },
   "outputs": [
    {
     "name": "stdout",
     "output_type": "stream",
     "text": [
      "Index(['Pclass', 'Age', 'SibSp', 'Parch', 'Fare'], dtype='object')\n"
     ]
    }
   ],
   "source": [
    "best_features = select_features(train)"
   ]
  },
  {
   "cell_type": "markdown",
   "metadata": {},
   "source": [
    "## 5. Model Selection using GridSearchCV to test a range of parameters for RandomForest vs. Kneighbors vs. LogisticRegression"
   ]
  },
  {
   "cell_type": "code",
   "execution_count": 12,
   "metadata": {
    "collapsed": true
   },
   "outputs": [],
   "source": [
    "from sklearn.model_selection import GridSearchCV\n",
    "from sklearn.neighbors import KNeighborsClassifier\n",
    "from sklearn.linear_model import LogisticRegression\n",
    "\n",
    "def select_model(df, features):\n",
    "    all_X = df[features]\n",
    "    all_y = df[\"Survived\"]\n",
    "    \n",
    "    lr = {\"name\": \"LogisticRegression\",\n",
    "          \"estimator\": LogisticRegression(),\n",
    "          \"hyperparameters\": \n",
    "              {\n",
    "                  \"solver\": [\"newton-cg\", \"lbfgs\", \"liblinear\"]\n",
    "              }\n",
    "          }\n",
    "    \n",
    "    kn = {\"name\" : \"KNeighborsClassifier\",\n",
    "          \"estimator\": KNeighborsClassifier(),\n",
    "          \"hyperparameters\":\n",
    "              {\n",
    "                  \"n_neighbors\": range(1,20,2),\n",
    "                  \"weights\": [\"distance\", \"uniform\"],\n",
    "                  \"algorithm\": [\"ball_tree\", \"kd_tree\", \"brute\"],\n",
    "                  \"p\": [1,2] \n",
    "              }\n",
    "         }\n",
    "    \n",
    "    rf = {\"name\": \"RandomForestClassifier\",\n",
    "          \"estimator\": RandomForestClassifier(),\n",
    "          \"hyperparameters\":\n",
    "              {\n",
    "                  \"n_estimators\": [4,6,9],\n",
    "                  \"criterion\": [\"entropy\", \"gini\"],\n",
    "                  \"max_depth\": [2, 5, 10],\n",
    "                  \"max_features\": [\"log2\", \"sqrt\"],\n",
    "                  \"min_samples_leaf\": [1,5,8],\n",
    "                  \"min_samples_split\": [2,3,5]\n",
    "              }\n",
    "         }\n",
    "    \n",
    "    model_list = [lr, kn, rf]\n",
    "    for model in model_list:\n",
    "        print (model[\"name\"])\n",
    "        grid = GridSearchCV(model[\"estimator\"], param_grid = model[\"hyperparameters\"], cv = 10)\n",
    "        grid.fit(all_X, all_y)\n",
    "        model[\"best_params\"] = grid.best_params_\n",
    "        model[\"best_score\"] = grid.best_score_\n",
    "        model[\"best_estimator\"] = grid.best_estimator_\n",
    "        print(model[\"best_params\"])\n",
    "        print(model[\"best_score\"])\n",
    "    return model_list"
   ]
  },
  {
   "cell_type": "code",
   "execution_count": 13,
   "metadata": {
    "collapsed": false
   },
   "outputs": [
    {
     "name": "stdout",
     "output_type": "stream",
     "text": [
      "LogisticRegression\n",
      "{'solver': 'liblinear'}\n",
      "0.701459034792\n",
      "KNeighborsClassifier\n",
      "{'algorithm': 'brute', 'weights': 'distance', 'n_neighbors': 15, 'p': 1}\n",
      "0.698092031425\n",
      "RandomForestClassifier\n",
      "{'n_estimators': 9, 'max_features': 'sqrt', 'criterion': 'gini', 'min_samples_leaf': 8, 'max_depth': 10, 'min_samples_split': 2}\n",
      "0.737373737374\n"
     ]
    }
   ],
   "source": [
    "optimized_models = select_model(train, best_features)"
   ]
  },
  {
   "cell_type": "markdown",
   "metadata": {},
   "source": [
    "## 6. Making predictions on the holdout set and submitting to Kaggle"
   ]
  },
  {
   "cell_type": "code",
   "execution_count": 14,
   "metadata": {
    "collapsed": true
   },
   "outputs": [],
   "source": [
    "def save_submission_file(model, features, filename = \"submission.csv\"):\n",
    "    predictions = model.predict(features)\n",
    "    submission_dict = {\"PassengerId\": holdout[\"PassengerId\"],\n",
    "                       \"Survived\": predictions}\n",
    "    submission = pd.DataFrame(submission_dict)\n",
    "    pd.to_csv(filename, index = False)"
   ]
  },
  {
   "cell_type": "code",
   "execution_count": 21,
   "metadata": {
    "collapsed": false
   },
   "outputs": [
    {
     "name": "stdout",
     "output_type": "stream",
     "text": [
      "RandomForestClassifier(bootstrap=True, class_weight=None, criterion='gini',\n",
      "            max_depth=10, max_features='sqrt', max_leaf_nodes=None,\n",
      "            min_impurity_split=1e-07, min_samples_leaf=8,\n",
      "            min_samples_split=2, min_weight_fraction_leaf=0.0,\n",
      "            n_estimators=9, n_jobs=1, oob_score=False, random_state=None,\n",
      "            verbose=0, warm_start=False)\n"
     ]
    }
   ],
   "source": [
    "best_model = optimized_models[2][\"best_estimator\"]\n",
    "print(best_model)"
   ]
  },
  {
   "cell_type": "code",
   "execution_count": null,
   "metadata": {
    "collapsed": true
   },
   "outputs": [],
   "source": [
    "save_submission_file(best_model, )"
   ]
  }
 ],
 "metadata": {
  "kernelspec": {
   "display_name": "Python 3",
   "language": "python",
   "name": "python3"
  },
  "language_info": {
   "codemirror_mode": {
    "name": "ipython",
    "version": 3
   },
   "file_extension": ".py",
   "mimetype": "text/x-python",
   "name": "python",
   "nbconvert_exporter": "python",
   "pygments_lexer": "ipython3",
   "version": "3.4.3"
  }
 },
 "nbformat": 4,
 "nbformat_minor": 2
}
